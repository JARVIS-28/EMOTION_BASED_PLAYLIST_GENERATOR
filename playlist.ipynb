{
 "cells": [
  {
   "cell_type": "code",
   "execution_count": null,
   "metadata": {},
   "outputs": [],
   "source": [
    "# from openai import OpenAI\n",
    "\n",
    "# client = OpenAI(api_key=\"YOUR_OPENAI_API_KEY\")\n",
    "\n",
    "# def generate_playlist_description(emotion, weather, time_of_day):\n",
    "#     prompt = f\"\"\"\n",
    "#     You are a smart AI DJ. A user feels {emotion} and the weather is {weather}. \n",
    "#     It's currently {time_of_day}. Suggest a playlist transition from {emotion} to a better mood.\n",
    "#     List the types of songs needed, their characteristics, and a creative description.\n",
    "#     \"\"\"\n",
    "    \n",
    "#     response = client.completions.create(\n",
    "#         model=\"gpt-4-turbo\",\n",
    "#         messages=[{\"role\": \"system\", \"content\": \"You are an expert AI music recommender.\"},\n",
    "#                   {\"role\": \"user\", \"content\": prompt}]\n",
    "#     )\n",
    "    \n",
    "#     return response.choices[0].message[\"content\"]\n",
    "\n",
    "# # Example usage\n",
    "# description = generate_playlist_description(\"Very Sad\", \"Rainy\", \"Evening\")\n",
    "# print(description)\n"
   ]
  },
  {
   "cell_type": "code",
   "execution_count": 6,
   "metadata": {},
   "outputs": [
    {
     "name": "stderr",
     "output_type": "stream",
     "text": [
      "Some weights of BertForSequenceClassification were not initialized from the model checkpoint at E:/Sem-6/GENAI/PROJECT/GENAI_PROJECT/bert-emotion-classifier and are newly initialized because the shapes did not match:\n",
      "- classifier.bias: found shape torch.Size([10]) in the checkpoint and torch.Size([2]) in the model instantiated\n",
      "- classifier.weight: found shape torch.Size([10, 768]) in the checkpoint and torch.Size([2, 768]) in the model instantiated\n",
      "You should probably TRAIN this model on a down-stream task to be able to use it for predictions and inference.\n"
     ]
    },
    {
     "name": "stdout",
     "output_type": "stream",
     "text": [
      "Predicted Emotion: Moderately Sad\n"
     ]
    }
   ],
   "source": [
    "import pandas as pd\n",
    "import torch\n",
    "from transformers import BertTokenizer, BertForSequenceClassification\n",
    "\n",
    "# Load Model & Tokenizer\n",
    "model = BertForSequenceClassification.from_pretrained(\"E:/Sem-6/GENAI/PROJECT/GENAI_PROJECT/bert-emotion-classifier\",ignore_mismatched_sizes=True)\n",
    "tokenizer = BertTokenizer.from_pretrained(\"E:/Sem-6/GENAI/PROJECT/GENAI_PROJECT/bert-emotion-classifier\")\n",
    "\n",
    "# Define Emotion Labels\n",
    "emotionsList = [\"Very Sad\", \"Moderately Sad\", \"Little Sad\", \"Okayish\", \"Giddy\", \n",
    "                \"Pleasant\", \"Party!!\", \"Yikes\", \"Angry\", \"Spooky\"]\n",
    "\n",
    "emotion_labels = {idx: emotion for idx, emotion in enumerate(emotionsList)}\n",
    "\n",
    "# Emotion Prediction Function\n",
    "def predict_emotion(text):\n",
    "    inputs = tokenizer(text, return_tensors=\"pt\", truncation=True, max_length=128)\n",
    "    outputs = model(**inputs)\n",
    "    predicted_class = torch.argmax(outputs.logits).item()\n",
    "    \n",
    "    return emotion_labels.get(predicted_class, \"Unknown\")\n",
    "\n",
    "# Example Test\n",
    "test_text = \"i am so happy!!!\"\n",
    "print(\"Predicted Emotion:\", predict_emotion(test_text))\n"
   ]
  }
 ],
 "metadata": {
  "kernelspec": {
   "display_name": "Python 3",
   "language": "python",
   "name": "python3"
  },
  "language_info": {
   "codemirror_mode": {
    "name": "ipython",
    "version": 3
   },
   "file_extension": ".py",
   "mimetype": "text/x-python",
   "name": "python",
   "nbconvert_exporter": "python",
   "pygments_lexer": "ipython3",
   "version": "3.13.1"
  }
 },
 "nbformat": 4,
 "nbformat_minor": 2
}
